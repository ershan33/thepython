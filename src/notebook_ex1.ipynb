{
 "cells": [
  {
   "cell_type": "code",
   "execution_count": 1,
   "id": "3f11fec4",
   "metadata": {},
   "outputs": [
    {
     "name": "stdout",
     "output_type": "stream",
     "text": [
      "hello world\n"
     ]
    }
   ],
   "source": [
    "print(\"hello world\")"
   ]
  },
  {
   "cell_type": "code",
   "execution_count": 2,
   "id": "c689f873",
   "metadata": {},
   "outputs": [],
   "source": [
    "def say_hi(name):\n",
    "    print(f\"hi {name}\")"
   ]
  },
  {
   "cell_type": "code",
   "execution_count": 3,
   "id": "3a849ced",
   "metadata": {},
   "outputs": [
    {
     "name": "stdout",
     "output_type": "stream",
     "text": [
      "hi ershan\n"
     ]
    }
   ],
   "source": [
    "say_hi(\"ershan\")"
   ]
  },
  {
   "cell_type": "code",
   "execution_count": 7,
   "id": "1daca963",
   "metadata": {},
   "outputs": [],
   "source": [
    "?int"
   ]
  },
  {
   "cell_type": "code",
   "execution_count": 5,
   "id": "c42fb7d0",
   "metadata": {},
   "outputs": [
    {
     "name": "stdout",
     "output_type": "stream",
     "text": [
      "36.8 ns ± 6.89 ns per loop (mean ± std. dev. of 7 runs, 10,000,000 loops each)\n"
     ]
    }
   ],
   "source": [
    "%timeit list()"
   ]
  },
  {
   "cell_type": "code",
   "execution_count": 8,
   "id": "915239b2",
   "metadata": {
    "scrolled": true
   },
   "outputs": [
    {
     "name": "stdout",
     "output_type": "stream",
     "text": [
      "16.4 ns ± 1.98 ns per loop (mean ± std. dev. of 7 runs, 100,000,000 loops each)\n"
     ]
    }
   ],
   "source": [
    "%timeit []"
   ]
  },
  {
   "cell_type": "markdown",
   "id": "51876784",
   "metadata": {},
   "source": [
    "this is a cell"
   ]
  },
  {
   "cell_type": "code",
   "execution_count": 10,
   "id": "f71661c2",
   "metadata": {},
   "outputs": [
    {
     "name": "stdout",
     "output_type": "stream",
     "text": [
      "这是一个代码单元\n"
     ]
    }
   ],
   "source": [
    "print(\"这是一个代码单元\")"
   ]
  },
  {
   "cell_type": "markdown",
   "id": "8bf2a53a",
   "metadata": {},
   "source": [
    "# 这是一个 notebook 的例子\n",
    "\n",
    "可以使用 `markdown` 的语法撰写文档。\n",
    "\n",
    "可以添加超链接：[python语言圣经（不是）](https://thepython.pages.dev/#/page/Python%20%E8%AF%AD%E8%A8%80%E5%9C%A3%E7%BB%8F%EF%BC%88%E4%B8%8D%E6%98%AF%EF%BC%89)"
   ]
  },
  {
   "cell_type": "code",
   "execution_count": null,
   "id": "29057ebe",
   "metadata": {},
   "outputs": [],
   "source": []
  }
 ],
 "metadata": {
  "kernelspec": {
   "display_name": "Python 3 (ipykernel)",
   "language": "python",
   "name": "python3"
  },
  "language_info": {
   "codemirror_mode": {
    "name": "ipython",
    "version": 3
   },
   "file_extension": ".py",
   "mimetype": "text/x-python",
   "name": "python",
   "nbconvert_exporter": "python",
   "pygments_lexer": "ipython3",
   "version": "3.10.2"
  }
 },
 "nbformat": 4,
 "nbformat_minor": 5
}
